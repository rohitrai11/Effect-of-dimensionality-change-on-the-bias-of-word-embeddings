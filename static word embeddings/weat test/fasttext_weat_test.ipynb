{
 "cells": [
  {
   "cell_type": "code",
   "execution_count": 1,
   "id": "a5382b63",
   "metadata": {},
   "outputs": [],
   "source": [
    "import numpy as np\n",
    "import pandas as pd\n",
    "import nltk\n",
    "import fasttext\n",
    "import scipy\n",
    "import csv \n",
    "import statistics"
   ]
  },
  {
   "cell_type": "code",
   "execution_count": 2,
   "id": "4be796c3",
   "metadata": {},
   "outputs": [],
   "source": [
    "fields = ['target_one vs target_two', 'attribute_one vs attribute_two', 'd']"
   ]
  },
  {
   "cell_type": "code",
   "execution_count": 3,
   "id": "71e1e6ab",
   "metadata": {},
   "outputs": [
    {
     "name": "stderr",
     "output_type": "stream",
     "text": [
      "Warning : `load_model` does not return WordVectorModel or SupervisedModel any more, but a `FastText` object which is very similar.\n"
     ]
    }
   ],
   "source": [
    "model_1000d = fasttext.load_model(\"/home/rohit/code/fasttext_models/1000d/model_1000d.bin\")"
   ]
  },
  {
   "cell_type": "code",
   "execution_count": 4,
   "id": "2d366ddf",
   "metadata": {},
   "outputs": [
    {
     "name": "stderr",
     "output_type": "stream",
     "text": [
      "Warning : `load_model` does not return WordVectorModel or SupervisedModel any more, but a `FastText` object which is very similar.\n"
     ]
    }
   ],
   "source": [
    "model_500d = fasttext.load_model(\"/home/rohit/code/fasttext_models/500d/model_500d.bin\")"
   ]
  },
  {
   "cell_type": "code",
   "execution_count": 5,
   "id": "9b8faa88",
   "metadata": {},
   "outputs": [
    {
     "name": "stderr",
     "output_type": "stream",
     "text": [
      "Warning : `load_model` does not return WordVectorModel or SupervisedModel any more, but a `FastText` object which is very similar.\n"
     ]
    }
   ],
   "source": [
    "model_300d = fasttext.load_model(\"/home/rohit/code/fasttext_models/300d/model_300d.bin\")"
   ]
  },
  {
   "cell_type": "code",
   "execution_count": 6,
   "id": "3846fafc",
   "metadata": {},
   "outputs": [
    {
     "name": "stderr",
     "output_type": "stream",
     "text": [
      "Warning : `load_model` does not return WordVectorModel or SupervisedModel any more, but a `FastText` object which is very similar.\n"
     ]
    }
   ],
   "source": [
    "model_200d = fasttext.load_model(\"/home/rohit/code/fasttext_models/200d/model_200d.bin\")"
   ]
  },
  {
   "cell_type": "code",
   "execution_count": 7,
   "id": "287d8ee1",
   "metadata": {},
   "outputs": [
    {
     "name": "stderr",
     "output_type": "stream",
     "text": [
      "Warning : `load_model` does not return WordVectorModel or SupervisedModel any more, but a `FastText` object which is very similar.\n"
     ]
    }
   ],
   "source": [
    "model_100d = fasttext.load_model(\"/home/rohit/code/fasttext_models/100d/model_100d.bin\")"
   ]
  },
  {
   "cell_type": "code",
   "execution_count": 8,
   "id": "ce0afb48",
   "metadata": {},
   "outputs": [
    {
     "name": "stderr",
     "output_type": "stream",
     "text": [
      "Warning : `load_model` does not return WordVectorModel or SupervisedModel any more, but a `FastText` object which is very similar.\n"
     ]
    }
   ],
   "source": [
    "model_50d = fasttext.load_model(\"/home/rohit/code/fasttext_models/50d/model_50d.bin\")"
   ]
  },
  {
   "cell_type": "code",
   "execution_count": 9,
   "id": "e9df85f3",
   "metadata": {},
   "outputs": [
    {
     "name": "stderr",
     "output_type": "stream",
     "text": [
      "Warning : `load_model` does not return WordVectorModel or SupervisedModel any more, but a `FastText` object which is very similar.\n"
     ]
    }
   ],
   "source": [
    "model_20d = fasttext.load_model(\"/home/rohit/code/fasttext_models/20d/model_20d.bin\")"
   ]
  },
  {
   "cell_type": "code",
   "execution_count": 10,
   "id": "b9958cb2",
   "metadata": {},
   "outputs": [],
   "source": [
    "file = open(\"weat.txt\", \"r\" ) \n",
    "file=file.read()"
   ]
  },
  {
   "cell_type": "code",
   "execution_count": 11,
   "id": "b8a1d419",
   "metadata": {},
   "outputs": [],
   "source": [
    "tokenizer = nltk.data.load('tokenizers/punkt/english.pickle')\n",
    "raw_sentences = tokenizer.tokenize(file.lower())"
   ]
  },
  {
   "cell_type": "code",
   "execution_count": 12,
   "id": "db012040",
   "metadata": {},
   "outputs": [],
   "source": [
    "def cosine_similarity(x, y):\n",
    "  # if(x is not None):\n",
    "  #   if(y is not None):\n",
    "  #     num = np.dot(x, y)\n",
    "  #     a = np.linalg.norm(x)\n",
    "  #     b = np.linalg.norm(y)\n",
    "  #     den = a*b\n",
    "  #     res = num/den\n",
    "  #     return res\n",
    "  return np.dot(x, y) / (np.linalg.norm(x) * np.linalg.norm(y))"
   ]
  },
  {
   "cell_type": "code",
   "execution_count": 43,
   "id": "aa893026",
   "metadata": {},
   "outputs": [],
   "source": [
    "rows = []\n",
    "mean_list = []"
   ]
  },
  {
   "cell_type": "code",
   "execution_count": 18,
   "id": "1d12ccd2",
   "metadata": {},
   "outputs": [],
   "source": [
    "def target_attribute(target_one,target_two, target_one_words, attribute_one,attribute_two, \n",
    "                     attribute_one_words, target_two_words, attribute_two_words, model):\n",
    "    cos=[]\n",
    "    s=0\n",
    "    s1=[]\n",
    "    s2=[]\n",
    "    S=[]\n",
    "    n=0\n",
    "    for i in range(0, len(target_one_words)):\n",
    "            c1=[]\n",
    "            c2=[]\n",
    "            for k in range(0, len(attribute_one_words)):\n",
    "                wt = target_one_words[i][:-1]\n",
    "                at1 = attribute_one_words[k][:-1]\n",
    "                x = model.get_word_vector(wt)\n",
    "                y1 = model.get_word_vector(at1)\n",
    "                try:\n",
    "                    cos1= cosine_similarity(x, y1)\n",
    "                    cos.append(cos1)\n",
    "                    c1.append(cos1)\n",
    "                except:\n",
    "                    cos1=0\n",
    "                    cos.append(cos1)\n",
    "                    c1.append(cos1)\n",
    "                    continue\n",
    "            for k in range(0, len(attribute_two_words)):\n",
    "                cos2=0\n",
    "                wt = target_one_words[i][:-1]\n",
    "                at2 = attribute_two_words[k][:-1]\n",
    "                x = model.get_word_vector(wt)\n",
    "                y2 = model.get_word_vector(at2)\n",
    "                try:\n",
    "                    cos2= cosine_similarity(x, y2)\n",
    "                    cos.append(cos2)\n",
    "                    c2.append(cos2)\n",
    "                except:\n",
    "                    cos2=0\n",
    "                    cos.append(cos2)\n",
    "                    c2.append(cos2)\n",
    "                    continue\n",
    "            s1.append((np.mean(c1)-np.mean(c2)))\n",
    "            S.append((np.mean(c1)-np.mean(c2)))\n",
    "            n=n+1\n",
    "    for i in range(0, len(target_two_words)):\n",
    "            c1=[]\n",
    "            c2=[]\n",
    "            for k in range(0, len(attribute_one_words)):\n",
    "                wt = target_two_words[i][:-1]\n",
    "                at1 = attribute_one_words[k][:-1]\n",
    "                x = model.get_word_vector(wt)\n",
    "                y1 = model.get_word_vector(at1)\n",
    "                try:\n",
    "                    cos1= cosine_similarity(x, y1)\n",
    "                    cos.append(cos1)\n",
    "                    c1.append(cos1)\n",
    "                except:\n",
    "                    cos1=0\n",
    "                    cos.append(cos1)\n",
    "                    c1.append(cos1)\n",
    "                    continue\n",
    "            for k in range(0, len(attribute_two_words)):\n",
    "                cos2=0\n",
    "                wt = target_two_words[i][:-1]\n",
    "                at2 = attribute_two_words[k][:-1]\n",
    "                x = model.get_word_vector(wt)\n",
    "                y2 = model.get_word_vector(at2)\n",
    "                try:\n",
    "                    cos2= cosine_similarity(x, y2)\n",
    "                    cos.append(cos2)\n",
    "                    c2.append(cos2)\n",
    "                except:\n",
    "                    cos2=0\n",
    "                    cos.append(cos2)\n",
    "                    c2.append(cos2)\n",
    "                    continue\n",
    "            s2.append((np.mean(c1)-np.mean(c2)))\n",
    "            S.append((np.mean(c1)-np.mean(c2)))\n",
    "    s=np.sum(s1)-np.sum(s2)\n",
    "    stdev=np.std(S)\n",
    "    res = s/(stdev*n)\n",
    "        \n",
    "    if(target_one == 'european_american_names'):\n",
    "        res2 = '%.2f' % res\n",
    "        mean_list.append(res2)\n",
    "\n",
    "        if(len(mean_list) == 3):\n",
    "            p = []\n",
    "            val1 = target_one + ' vs ' + target_two\n",
    "            p.append(val1)\n",
    "\n",
    "            val2 = attribute_one + ' vs ' + attribute_two\n",
    "            p.append(val2)\n",
    "\n",
    "            float_mean_list = []\n",
    "            for val in mean_list:\n",
    "                float_mean_list.append(float(val))\n",
    "\n",
    "            avg = statistics.mean(float_mean_list)\n",
    "            res2 = '%.2f' % avg\n",
    "            p.append(res2)\n",
    "            rows.append(p)\n",
    "\n",
    "    else:\n",
    "        p = []\n",
    "\n",
    "        val1 = target_one + ' vs ' + target_two\n",
    "        p.append(val1)\n",
    "\n",
    "        val2 = attribute_one + ' vs ' + attribute_two\n",
    "        p.append(val2)\n",
    "\n",
    "        #print(target_one + ' vs ' + target_two  + ' , ' +attribute_one + ' vs ' + attribute_two +', d = ',end=\"\")\n",
    "        #print('%.2f' % res)\n",
    "        res2 = '%.2f' % res\n",
    "        p.append(res2)\n",
    "\n",
    "        rows.append(p)\n",
    "    #print(res2)"
   ]
  },
  {
   "cell_type": "code",
   "execution_count": 44,
   "id": "d8bc9c8c",
   "metadata": {},
   "outputs": [],
   "source": [
    "for i in range(len(raw_sentences)-30):\n",
    "    words=raw_sentences[i*4].split()\n",
    "    target_one = words[0][:-1]\n",
    "    target_one_words = words[1:]\n",
    "    words1=raw_sentences[i*4+1].split()\n",
    "    target_two = words1[0][:-1]\n",
    "    target_two_words = words1[1:]\n",
    "    words2=raw_sentences[i*4+2].split()\n",
    "    attribute_one = words2[0][:-1]\n",
    "    attribute_one_words = words2[1:]\n",
    "    words3 = raw_sentences[i*4+3].split()\n",
    "    attribute_two = words3[0][:-1]\n",
    "    attribute_two_words = words3[1:]\n",
    "    \n",
    "    target_attribute(target_one,target_two, target_one_words, attribute_one,attribute_two, \n",
    "                     attribute_one_words, target_two_words, attribute_two_words, model_20d)"
   ]
  },
  {
   "cell_type": "code",
   "execution_count": 45,
   "id": "2c240063",
   "metadata": {},
   "outputs": [],
   "source": [
    "# name of csv file \n",
    "filename = \"results_fasttext_20d.csv\""
   ]
  },
  {
   "cell_type": "code",
   "execution_count": 46,
   "id": "4a6c2374",
   "metadata": {},
   "outputs": [],
   "source": [
    "# writing to csv file \n",
    "with open(filename, 'w') as csvfile: \n",
    "    # creating a csv writer object \n",
    "    csvwriter = csv.writer(csvfile) \n",
    "        \n",
    "    # writing the fields \n",
    "    csvwriter.writerow(fields) \n",
    "        \n",
    "    # writing the data rows \n",
    "    csvwriter.writerows(rows)"
   ]
  }
 ],
 "metadata": {
  "kernelspec": {
   "display_name": "Python 3 (ipykernel)",
   "language": "python",
   "name": "python3"
  },
  "language_info": {
   "codemirror_mode": {
    "name": "ipython",
    "version": 3
   },
   "file_extension": ".py",
   "mimetype": "text/x-python",
   "name": "python",
   "nbconvert_exporter": "python",
   "pygments_lexer": "ipython3",
   "version": "3.8.16"
  }
 },
 "nbformat": 4,
 "nbformat_minor": 5
}
