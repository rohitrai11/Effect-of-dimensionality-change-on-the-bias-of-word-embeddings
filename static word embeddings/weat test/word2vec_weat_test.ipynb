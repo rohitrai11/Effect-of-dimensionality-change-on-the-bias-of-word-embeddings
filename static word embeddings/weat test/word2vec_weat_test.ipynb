{
 "cells": [
  {
   "cell_type": "code",
   "execution_count": 16,
   "id": "aa0bd366",
   "metadata": {},
   "outputs": [],
   "source": [
    "from gensim.models import Word2Vec\n",
    "import numpy as np\n",
    "import pandas as pd\n",
    "import nltk\n",
    "import scipy\n",
    "import csv \n",
    "import statistics"
   ]
  },
  {
   "cell_type": "code",
   "execution_count": 17,
   "id": "2510ac21",
   "metadata": {},
   "outputs": [],
   "source": [
    "fields = ['target_one vs target_two', 'attribute_one vs attribute_two', 'd']"
   ]
  },
  {
   "cell_type": "code",
   "execution_count": 2,
   "id": "57c10ba3",
   "metadata": {},
   "outputs": [],
   "source": [
    "model_1000d = Word2Vec.load(\"/home/rohit/code/word2vecmodels/1000d/word2vec_1000d.model\")"
   ]
  },
  {
   "cell_type": "code",
   "execution_count": 3,
   "id": "67404aeb",
   "metadata": {},
   "outputs": [],
   "source": [
    "model_500d = Word2Vec.load(\"/home/rohit/code/word2vecmodels/500d/word2vec_500d.model\")"
   ]
  },
  {
   "cell_type": "code",
   "execution_count": 4,
   "id": "b298ca25",
   "metadata": {},
   "outputs": [],
   "source": [
    "model_300d = Word2Vec.load(\"/home/rohit/code/word2vecmodels/300d/word2vec_300d.model\")"
   ]
  },
  {
   "cell_type": "code",
   "execution_count": 5,
   "id": "c8ec4c11",
   "metadata": {},
   "outputs": [],
   "source": [
    "model_200d = Word2Vec.load(\"/home/rohit/code/word2vecmodels/200d/word2vec_200d.model\")"
   ]
  },
  {
   "cell_type": "code",
   "execution_count": 6,
   "id": "e27083b8",
   "metadata": {},
   "outputs": [],
   "source": [
    "model_100d = Word2Vec.load(\"/home/rohit/code/word2vecmodels/100d/word2vec_100d.model\")"
   ]
  },
  {
   "cell_type": "code",
   "execution_count": 7,
   "id": "06551333",
   "metadata": {},
   "outputs": [],
   "source": [
    "model_50d = Word2Vec.load(\"/home/rohit/code/word2vecmodels/50d/word2vec_50d.model\")"
   ]
  },
  {
   "cell_type": "code",
   "execution_count": 8,
   "id": "8782c82c",
   "metadata": {},
   "outputs": [],
   "source": [
    "model_20d = Word2Vec.load(\"/home/rohit/code/word2vecmodels/20d/word2vec_20d.model\")"
   ]
  },
  {
   "cell_type": "code",
   "execution_count": 9,
   "id": "a9839ff7",
   "metadata": {},
   "outputs": [
    {
     "name": "stdout",
     "output_type": "stream",
     "text": [
      "(1174432, 1000)\n"
     ]
    }
   ],
   "source": [
    "print(model_1000d.wv.vectors.shape)"
   ]
  },
  {
   "cell_type": "code",
   "execution_count": 10,
   "id": "e498f402",
   "metadata": {},
   "outputs": [
    {
     "name": "stdout",
     "output_type": "stream",
     "text": [
      "(1174432, 500)\n"
     ]
    }
   ],
   "source": [
    "print(model_500d.wv.vectors.shape)"
   ]
  },
  {
   "cell_type": "code",
   "execution_count": 11,
   "id": "36cf7ca9",
   "metadata": {},
   "outputs": [
    {
     "name": "stdout",
     "output_type": "stream",
     "text": [
      "(1174432, 300)\n"
     ]
    }
   ],
   "source": [
    "print(model_300d.wv.vectors.shape)"
   ]
  },
  {
   "cell_type": "code",
   "execution_count": 12,
   "id": "a8531e9e",
   "metadata": {},
   "outputs": [
    {
     "name": "stdout",
     "output_type": "stream",
     "text": [
      "(1174432, 200)\n"
     ]
    }
   ],
   "source": [
    "print(model_200d.wv.vectors.shape)"
   ]
  },
  {
   "cell_type": "code",
   "execution_count": 13,
   "id": "d09d7719",
   "metadata": {},
   "outputs": [
    {
     "name": "stdout",
     "output_type": "stream",
     "text": [
      "(1174432, 100)\n"
     ]
    }
   ],
   "source": [
    "print(model_100d.wv.vectors.shape)"
   ]
  },
  {
   "cell_type": "code",
   "execution_count": 14,
   "id": "0e4b5417",
   "metadata": {},
   "outputs": [
    {
     "name": "stdout",
     "output_type": "stream",
     "text": [
      "(1174432, 50)\n"
     ]
    }
   ],
   "source": [
    "print(model_50d.wv.vectors.shape)"
   ]
  },
  {
   "cell_type": "code",
   "execution_count": 15,
   "id": "b5d9e486",
   "metadata": {},
   "outputs": [
    {
     "name": "stdout",
     "output_type": "stream",
     "text": [
      "(1174432, 20)\n"
     ]
    }
   ],
   "source": [
    "print(model_20d.wv.vectors.shape)"
   ]
  },
  {
   "cell_type": "code",
   "execution_count": 18,
   "id": "61ff6bcf",
   "metadata": {},
   "outputs": [],
   "source": [
    "file = open(\"weat.txt\", \"r\" ) \n",
    "file=file.read()"
   ]
  },
  {
   "cell_type": "code",
   "execution_count": 19,
   "id": "abc50aac",
   "metadata": {},
   "outputs": [],
   "source": [
    "tokenizer = nltk.data.load('tokenizers/punkt/english.pickle')\n",
    "raw_sentences = tokenizer.tokenize(file.lower())"
   ]
  },
  {
   "cell_type": "code",
   "execution_count": 20,
   "id": "e79b6e84",
   "metadata": {},
   "outputs": [],
   "source": [
    "def cosine_similarity(x, y):\n",
    "  # if(x is not None):\n",
    "  #   if(y is not None):\n",
    "  #     num = np.dot(x, y)\n",
    "  #     a = np.linalg.norm(x)\n",
    "  #     b = np.linalg.norm(y)\n",
    "  #     den = a*b\n",
    "  #     res = num/den\n",
    "  #     return res\n",
    "  return np.dot(x, y) / (np.linalg.norm(x) * np.linalg.norm(y))"
   ]
  },
  {
   "cell_type": "code",
   "execution_count": 42,
   "id": "056825ad",
   "metadata": {},
   "outputs": [],
   "source": [
    "rows = []\n",
    "mean_list = []"
   ]
  },
  {
   "cell_type": "code",
   "execution_count": 21,
   "id": "f422c21b",
   "metadata": {},
   "outputs": [],
   "source": [
    "def target_attribute(target_one,target_two, target_one_words, attribute_one,attribute_two, \n",
    "                     attribute_one_words, target_two_words, attribute_two_words, model):\n",
    "        cos=[]\n",
    "        s=0\n",
    "        s1=[]\n",
    "        s2=[]\n",
    "        S=[]\n",
    "        n=0\n",
    "        for i in range(0, len(target_one_words)):\n",
    "          c1=[]\n",
    "          c2=[]\n",
    "          for k in range(0, len(attribute_one_words)):\n",
    "            wt = target_one_words[i][:-1]\n",
    "            at1 = attribute_one_words[k][:-1]\n",
    "            try:\n",
    "              cos1= model.wv.similarity(wt, at1)\n",
    "              cos.append(cos1)\n",
    "              c1.append(cos1)\n",
    "            except:\n",
    "              cos1=0\n",
    "              cos.append(cos1)\n",
    "              c1.append(cos1)\n",
    "              continue\n",
    "          for k in range(0, len(attribute_two_words)):\n",
    "            cos2=0\n",
    "            wt = target_one_words[i][:-1]\n",
    "            at2 = attribute_two_words[k][:-1]\n",
    "            try:\n",
    "              cos2= model.wv.similarity(wt, at2)\n",
    "              cos.append(cos2)\n",
    "              c2.append(cos2)\n",
    "            except:\n",
    "              cos2=0\n",
    "              cos.append(cos2)\n",
    "              c2.append(cos2)\n",
    "              continue\n",
    "          s1.append((np.mean(c1)-np.mean(c2)))\n",
    "          S.append((np.mean(c1)-np.mean(c2)))\n",
    "          n=n+1\n",
    "\n",
    "        for i in range(0, len(target_two_words)):\n",
    "          c1=[]\n",
    "          c2=[]\n",
    "\n",
    "          for k in range(0, len(attribute_one_words)):\n",
    "            wt = target_two_words[i][:-1]\n",
    "            at1 = attribute_one_words[k][:-1]\n",
    "            try:\n",
    "              cos1= model.wv.similarity(wt, at1)\n",
    "              cos.append(cos1)\n",
    "              c1.append(cos1)\n",
    "            except:\n",
    "              cos1=0\n",
    "              cos.append(cos1)\n",
    "              c1.append(cos1)\n",
    "              continue\n",
    "\n",
    "          for k in range(0, len(attribute_two_words)):\n",
    "            cos2=0\n",
    "            wt = target_two_words[i][:-1]\n",
    "            at2 = attribute_two_words[k][:-1]\n",
    "            try:\n",
    "              cos2= model.wv.similarity(wt, at2)\n",
    "              cos.append(cos2)\n",
    "              c2.append(cos2)\n",
    "            except:\n",
    "              cos2=0\n",
    "              cos.append(cos2)\n",
    "              c2.append(cos2)\n",
    "              continue\n",
    "          s2.append((np.mean(c1)-np.mean(c2)))\n",
    "          S.append((np.mean(c1)-np.mean(c2)))\n",
    "        s=np.sum(s1)-np.sum(s2)\n",
    "        stdev=np.std(S)\n",
    "        res = s/(stdev*n)\n",
    "        \n",
    "        if(target_one == 'european_american_names'):\n",
    "            res2 = '%.2f' % res\n",
    "            mean_list.append(res2)\n",
    "\n",
    "            if(len(mean_list) == 3):\n",
    "                p = []\n",
    "                val1 = target_one + ' vs ' + target_two\n",
    "                p.append(val1)\n",
    "\n",
    "                val2 = attribute_one + ' vs ' + attribute_two\n",
    "                p.append(val2)\n",
    "\n",
    "                float_mean_list = []\n",
    "                for val in mean_list:\n",
    "                    float_mean_list.append(float(val))\n",
    "\n",
    "                avg = statistics.mean(float_mean_list)\n",
    "                res2 = '%.2f' % avg\n",
    "                p.append(res2)\n",
    "                rows.append(p)\n",
    "\n",
    "        else:\n",
    "            p = []\n",
    "\n",
    "            val1 = target_one + ' vs ' + target_two\n",
    "            p.append(val1)\n",
    "\n",
    "            val2 = attribute_one + ' vs ' + attribute_two\n",
    "            p.append(val2)\n",
    "\n",
    "            #print(target_one + ' vs ' + target_two  + ' , ' +attribute_one + ' vs ' + attribute_two +', d = ',end=\"\")\n",
    "            #print('%.2f' % res)\n",
    "            res2 = '%.2f' % res\n",
    "            p.append(res2)\n",
    "\n",
    "            rows.append(p)"
   ]
  },
  {
   "cell_type": "code",
   "execution_count": 43,
   "id": "3d848220",
   "metadata": {},
   "outputs": [],
   "source": [
    "for i in range(len(raw_sentences)-30):\n",
    "    words=raw_sentences[i*4].split()\n",
    "    target_one = words[0][:-1]\n",
    "    target_one_words = words[1:]\n",
    "    words1=raw_sentences[i*4+1].split()\n",
    "    target_two = words1[0][:-1]\n",
    "    target_two_words = words1[1:]\n",
    "    words2=raw_sentences[i*4+2].split()\n",
    "    attribute_one = words2[0][:-1]\n",
    "    attribute_one_words = words2[1:]\n",
    "    words3 = raw_sentences[i*4+3].split()\n",
    "    attribute_two = words3[0][:-1]\n",
    "    attribute_two_words = words3[1:]\n",
    "    \n",
    "    target_attribute(target_one,target_two, target_one_words, attribute_one,attribute_two, \n",
    "                     attribute_one_words, target_two_words, attribute_two_words, model_50d)"
   ]
  },
  {
   "cell_type": "code",
   "execution_count": 44,
   "id": "fa398bb9",
   "metadata": {},
   "outputs": [],
   "source": [
    "# name of csv file \n",
    "filename = \"results_word2vec_50d.csv\""
   ]
  },
  {
   "cell_type": "code",
   "execution_count": 45,
   "id": "d8eca0ec",
   "metadata": {},
   "outputs": [],
   "source": [
    "# writing to csv file \n",
    "with open(filename, 'w') as csvfile: \n",
    "    # creating a csv writer object \n",
    "    csvwriter = csv.writer(csvfile) \n",
    "        \n",
    "    # writing the fields \n",
    "    csvwriter.writerow(fields) \n",
    "        \n",
    "    # writing the data rows \n",
    "    csvwriter.writerows(rows)"
   ]
  }
 ],
 "metadata": {
  "kernelspec": {
   "display_name": "Python 3 (ipykernel)",
   "language": "python",
   "name": "python3"
  },
  "language_info": {
   "codemirror_mode": {
    "name": "ipython",
    "version": 3
   },
   "file_extension": ".py",
   "mimetype": "text/x-python",
   "name": "python",
   "nbconvert_exporter": "python",
   "pygments_lexer": "ipython3",
   "version": "3.8.16"
  }
 },
 "nbformat": 4,
 "nbformat_minor": 5
}
