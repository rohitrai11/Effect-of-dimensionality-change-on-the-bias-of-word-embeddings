{
 "cells": [
  {
   "cell_type": "code",
   "execution_count": 1,
   "id": "a71720f7",
   "metadata": {},
   "outputs": [],
   "source": [
    "import fasttext"
   ]
  },
  {
   "cell_type": "code",
   "execution_count": 3,
   "id": "aecfaa24",
   "metadata": {},
   "outputs": [
    {
     "name": "stderr",
     "output_type": "stream",
     "text": [
      "Read 263M words\n",
      "Number of words:  204487\n",
      "Number of labels: 0\n",
      "Progress: 100.0% words/sec/thread:  663442 lr:  0.000000 avg.loss:  1.062670 ETA:   0h 0m 0s\n"
     ]
    }
   ],
   "source": [
    "model_300d = fasttext.train_unsupervised('sent3.txt', epoch=20, lr=0.05, dim=300)"
   ]
  },
  {
   "cell_type": "code",
   "execution_count": 6,
   "id": "a4ac6b0d",
   "metadata": {},
   "outputs": [],
   "source": [
    "#model_300d.get_word_vector(\"the\")"
   ]
  },
  {
   "cell_type": "code",
   "execution_count": 7,
   "id": "b4050fb4",
   "metadata": {},
   "outputs": [],
   "source": [
    "model_300d.save_model(\"/home/rohit/code/fasttext_models/300d/model_300d.bin\")"
   ]
  },
  {
   "cell_type": "code",
   "execution_count": 8,
   "id": "5e182f16",
   "metadata": {},
   "outputs": [
    {
     "name": "stderr",
     "output_type": "stream",
     "text": [
      "Read 263M words\n",
      "Number of words:  204487\n",
      "Number of labels: 0\n",
      "Progress: 100.0% words/sec/thread:  675611 lr:  0.000000 avg.loss:  1.056571 ETA:   0h 0m 0s\n"
     ]
    }
   ],
   "source": [
    "model_200d = fasttext.train_unsupervised('sent3.txt', epoch=20, lr=0.05, dim=200)"
   ]
  },
  {
   "cell_type": "code",
   "execution_count": 9,
   "id": "76fcc89b",
   "metadata": {},
   "outputs": [],
   "source": [
    "model_200d.save_model(\"/home/rohit/code/fasttext_models/200d/model_200d.bin\")"
   ]
  },
  {
   "cell_type": "code",
   "execution_count": 10,
   "id": "5ab36439",
   "metadata": {},
   "outputs": [
    {
     "name": "stderr",
     "output_type": "stream",
     "text": [
      "Read 263M words\n",
      "Number of words:  204487\n",
      "Number of labels: 0\n",
      "Progress: 100.0% words/sec/thread:  560046 lr:  0.000000 avg.loss:  1.065480 ETA:   0h 0m 0s42s\n"
     ]
    }
   ],
   "source": [
    "model_1000d = fasttext.train_unsupervised('sent3.txt', epoch=20, lr=0.05, dim=1000)"
   ]
  },
  {
   "cell_type": "code",
   "execution_count": 11,
   "id": "4867f377",
   "metadata": {},
   "outputs": [],
   "source": [
    "model_1000d.save_model(\"/home/rohit/code/fasttext_models/1000d/model_1000d.bin\")"
   ]
  },
  {
   "cell_type": "code",
   "execution_count": 12,
   "id": "e5e35c3d",
   "metadata": {},
   "outputs": [
    {
     "name": "stderr",
     "output_type": "stream",
     "text": [
      "Read 263M words\n",
      "Number of words:  204487\n",
      "Number of labels: 0\n",
      "Progress: 100.0% words/sec/thread:  636919 lr:  0.000000 avg.loss:  1.069257 ETA:   0h 0m 0s\n"
     ]
    }
   ],
   "source": [
    "model_500d = fasttext.train_unsupervised('sent3.txt', epoch=20, lr=0.05, dim=500)"
   ]
  },
  {
   "cell_type": "code",
   "execution_count": 13,
   "id": "4ddade1c",
   "metadata": {},
   "outputs": [],
   "source": [
    "model_500d.save_model(\"/home/rohit/code/fasttext_models/500d/model_500d.bin\")"
   ]
  },
  {
   "cell_type": "code",
   "execution_count": 14,
   "id": "7e78c6f5",
   "metadata": {},
   "outputs": [
    {
     "name": "stderr",
     "output_type": "stream",
     "text": [
      "Read 263M words\n",
      "Number of words:  204487\n",
      "Number of labels: 0\n",
      "Progress: 100.0% words/sec/thread:  678351 lr:  0.000000 avg.loss:  1.057372 ETA:   0h 0m 0s\n"
     ]
    }
   ],
   "source": [
    "model_200d = fasttext.train_unsupervised('sent3.txt', epoch=20, lr=0.05, dim=200)"
   ]
  },
  {
   "cell_type": "code",
   "execution_count": 15,
   "id": "32102d0a",
   "metadata": {},
   "outputs": [],
   "source": [
    "model_200d.save_model(\"/home/rohit/code/fasttext_models/200d/model_200d.bin\")"
   ]
  },
  {
   "cell_type": "code",
   "execution_count": 16,
   "id": "56df3ce3",
   "metadata": {},
   "outputs": [
    {
     "name": "stderr",
     "output_type": "stream",
     "text": [
      "Read 263M words\n",
      "Number of words:  204487\n",
      "Number of labels: 0\n",
      "Progress: 100.0% words/sec/thread:  696981 lr:  0.000000 avg.loss:  1.052695 ETA:   0h 0m 0s 18.6% words/sec/thread:  694615 lr:  0.040689 avg.loss:  1.138968 ETA:   0h 3m18s\n"
     ]
    }
   ],
   "source": [
    "model_100d = fasttext.train_unsupervised('sent3.txt', epoch=20, lr=0.05, dim=100)"
   ]
  },
  {
   "cell_type": "code",
   "execution_count": 17,
   "id": "7ebef2f1",
   "metadata": {},
   "outputs": [],
   "source": [
    "model_100d.save_model(\"/home/rohit/code/fasttext_models/100d/model_100d.bin\")"
   ]
  },
  {
   "cell_type": "code",
   "execution_count": 18,
   "id": "c44fd5b5",
   "metadata": {},
   "outputs": [
    {
     "name": "stderr",
     "output_type": "stream",
     "text": [
      "Read 263M words\n",
      "Number of words:  204487\n",
      "Number of labels: 0\n",
      "Progress: 100.0% words/sec/thread:  699369 lr:  0.000000 avg.loss:  1.058806 ETA:   0h 0m 0s\n"
     ]
    }
   ],
   "source": [
    "model_50d = fasttext.train_unsupervised('sent3.txt', epoch=20, lr=0.05, dim=50)"
   ]
  },
  {
   "cell_type": "code",
   "execution_count": 19,
   "id": "3089b059",
   "metadata": {},
   "outputs": [],
   "source": [
    "model_50d.save_model(\"/home/rohit/code/fasttext_models/50d/model_50d.bin\")"
   ]
  },
  {
   "cell_type": "code",
   "execution_count": 20,
   "id": "cdee0312",
   "metadata": {},
   "outputs": [
    {
     "name": "stderr",
     "output_type": "stream",
     "text": [
      "Read 263M words\n",
      "Number of words:  204487\n",
      "Number of labels: 0\n",
      "Progress: 100.0% words/sec/thread:  704923 lr:  0.000000 avg.loss:  1.056230 ETA:   0h 0m 0s\n"
     ]
    }
   ],
   "source": [
    "model_20d = fasttext.train_unsupervised('sent3.txt', epoch=20, lr=0.05, dim=20)"
   ]
  },
  {
   "cell_type": "code",
   "execution_count": 21,
   "id": "29156620",
   "metadata": {},
   "outputs": [],
   "source": [
    "model_20d.save_model(\"/home/rohit/code/fasttext_models/20d/model_20d.bin\")"
   ]
  }
 ],
 "metadata": {
  "kernelspec": {
   "display_name": "Python 3 (ipykernel)",
   "language": "python",
   "name": "python3"
  },
  "language_info": {
   "codemirror_mode": {
    "name": "ipython",
    "version": 3
   },
   "file_extension": ".py",
   "mimetype": "text/x-python",
   "name": "python",
   "nbconvert_exporter": "python",
   "pygments_lexer": "ipython3",
   "version": "3.8.16"
  }
 },
 "nbformat": 4,
 "nbformat_minor": 5
}
